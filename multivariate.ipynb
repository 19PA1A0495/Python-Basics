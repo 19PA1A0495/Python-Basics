{
  "nbformat": 4,
  "nbformat_minor": 0,
  "metadata": {
    "colab": {
      "name": "multivariate.ipynb",
      "provenance": [],
      "collapsed_sections": [],
      "authorship_tag": "ABX9TyNTh3wvLywgk9qKOyvQA2p8",
      "include_colab_link": true
    },
    "kernelspec": {
      "name": "python3",
      "display_name": "Python 3"
    }
  },
  "cells": [
    {
      "cell_type": "markdown",
      "metadata": {
        "id": "view-in-github",
        "colab_type": "text"
      },
      "source": [
        "<a href=\"https://colab.research.google.com/github/19PA1A0495/Python-Basics/blob/master/multivariate.ipynb\" target=\"_parent\"><img src=\"https://colab.research.google.com/assets/colab-badge.svg\" alt=\"Open In Colab\"/></a>"
      ]
    },
    {
      "cell_type": "code",
      "metadata": {
        "id": "IjbDi_dq-dA5",
        "colab_type": "code",
        "colab": {}
      },
      "source": [
        "import pandas as pd # for handling data in the form of tables\n",
        "import numpy as np # For handling matrix\n",
        "from sklearn.model_selection import train_test_split # For spliting the data into train and test\n",
        "from sklearn.linear_model import LinearRegression # for using the model\n",
        "import matplotlib.pyplot as plt "
      ],
      "execution_count": 0,
      "outputs": []
    },
    {
      "cell_type": "code",
      "metadata": {
        "id": "P1c887Qt-rRa",
        "colab_type": "code",
        "outputId": "df2da820-a828-43fc-c2dc-5f4a168cfbe0",
        "colab": {
          "base_uri": "https://localhost:8080/",
          "height": 241
        }
      },
      "source": [
        "data=pd.read_csv(\"students_placement_data.csv\")\n",
        "data.head()"
      ],
      "execution_count": 0,
      "outputs": [
        {
          "output_type": "execute_result",
          "data": {
            "text/html": [
              "<div>\n",
              "<style scoped>\n",
              "    .dataframe tbody tr th:only-of-type {\n",
              "        vertical-align: middle;\n",
              "    }\n",
              "\n",
              "    .dataframe tbody tr th {\n",
              "        vertical-align: top;\n",
              "    }\n",
              "\n",
              "    .dataframe thead th {\n",
              "        text-align: right;\n",
              "    }\n",
              "</style>\n",
              "<table border=\"1\" class=\"dataframe\">\n",
              "  <thead>\n",
              "    <tr style=\"text-align: right;\">\n",
              "      <th></th>\n",
              "      <th>Roll No</th>\n",
              "      <th>Gender</th>\n",
              "      <th>Section</th>\n",
              "      <th>SSC Percentage</th>\n",
              "      <th>inter_Diploma_percentage</th>\n",
              "      <th>B.Tech_percentage</th>\n",
              "      <th>Backlogs</th>\n",
              "      <th>registered_for_ Placement_Training</th>\n",
              "      <th>placement status</th>\n",
              "    </tr>\n",
              "  </thead>\n",
              "  <tbody>\n",
              "    <tr>\n",
              "      <th>0</th>\n",
              "      <td>1</td>\n",
              "      <td>M</td>\n",
              "      <td>A</td>\n",
              "      <td>87.3</td>\n",
              "      <td>65.3</td>\n",
              "      <td>40.00</td>\n",
              "      <td>18</td>\n",
              "      <td>NO</td>\n",
              "      <td>Not placed</td>\n",
              "    </tr>\n",
              "    <tr>\n",
              "      <th>1</th>\n",
              "      <td>2</td>\n",
              "      <td>F</td>\n",
              "      <td>A</td>\n",
              "      <td>89.0</td>\n",
              "      <td>92.4</td>\n",
              "      <td>71.45</td>\n",
              "      <td>0</td>\n",
              "      <td>yes</td>\n",
              "      <td>Placed</td>\n",
              "    </tr>\n",
              "    <tr>\n",
              "      <th>2</th>\n",
              "      <td>3</td>\n",
              "      <td>F</td>\n",
              "      <td>A</td>\n",
              "      <td>67.0</td>\n",
              "      <td>68.0</td>\n",
              "      <td>45.26</td>\n",
              "      <td>13</td>\n",
              "      <td>yes</td>\n",
              "      <td>Not placed</td>\n",
              "    </tr>\n",
              "    <tr>\n",
              "      <th>3</th>\n",
              "      <td>4</td>\n",
              "      <td>M</td>\n",
              "      <td>A</td>\n",
              "      <td>71.0</td>\n",
              "      <td>70.4</td>\n",
              "      <td>36.47</td>\n",
              "      <td>17</td>\n",
              "      <td>yes</td>\n",
              "      <td>Not placed</td>\n",
              "    </tr>\n",
              "    <tr>\n",
              "      <th>4</th>\n",
              "      <td>5</td>\n",
              "      <td>M</td>\n",
              "      <td>A</td>\n",
              "      <td>67.0</td>\n",
              "      <td>65.5</td>\n",
              "      <td>42.52</td>\n",
              "      <td>17</td>\n",
              "      <td>yes</td>\n",
              "      <td>Not placed</td>\n",
              "    </tr>\n",
              "  </tbody>\n",
              "</table>\n",
              "</div>"
            ],
            "text/plain": [
              "   Roll No Gender  ... registered_for_ Placement_Training  placement status\n",
              "0        1      M  ...                                 NO        Not placed\n",
              "1        2      F  ...                                yes            Placed\n",
              "2        3      F  ...                                yes        Not placed\n",
              "3        4      M  ...                                yes        Not placed\n",
              "4        5      M  ...                                yes        Not placed\n",
              "\n",
              "[5 rows x 9 columns]"
            ]
          },
          "metadata": {
            "tags": []
          },
          "execution_count": 2
        }
      ]
    },
    {
      "cell_type": "code",
      "metadata": {
        "id": "D6C3A0h1-7Y6",
        "colab_type": "code",
        "outputId": "bb0c31f7-4493-4361-ff43-dde8ab255c3d",
        "colab": {
          "base_uri": "https://localhost:8080/",
          "height": 1000
        }
      },
      "source": [
        "x=data['SSC Percentage'].values.reshape(-1,1)\n",
        "y=data['B.Tech_percentage'].values.reshape(-1,1)\n",
        "x\n",
        "y"
      ],
      "execution_count": 0,
      "outputs": [
        {
          "output_type": "execute_result",
          "data": {
            "text/plain": [
              "array([[40.  ],\n",
              "       [71.45],\n",
              "       [45.26],\n",
              "       [36.47],\n",
              "       [42.52],\n",
              "       [62.2 ],\n",
              "       [33.77],\n",
              "       [61.02],\n",
              "       [53.  ],\n",
              "       [51.  ],\n",
              "       [71.49],\n",
              "       [49.67],\n",
              "       [54.74],\n",
              "       [74.96],\n",
              "       [50.55],\n",
              "       [75.96],\n",
              "       [70.01],\n",
              "       [85.39],\n",
              "       [71.65],\n",
              "       [74.34],\n",
              "       [76.9 ],\n",
              "       [73.01],\n",
              "       [68.3 ],\n",
              "       [70.3 ],\n",
              "       [54.18],\n",
              "       [55.82],\n",
              "       [61.  ],\n",
              "       [38.  ],\n",
              "       [64.36],\n",
              "       [69.6 ],\n",
              "       [74.25],\n",
              "       [58.  ],\n",
              "       [71.94],\n",
              "       [42.  ],\n",
              "       [65.7 ],\n",
              "       [68.7 ],\n",
              "       [75.42],\n",
              "       [72.68],\n",
              "       [51.  ],\n",
              "       [67.5 ],\n",
              "       [72.74],\n",
              "       [58.67],\n",
              "       [45.45],\n",
              "       [70.85],\n",
              "       [69.48],\n",
              "       [72.57],\n",
              "       [59.53],\n",
              "       [67.06],\n",
              "       [52.09],\n",
              "       [77.5 ],\n",
              "       [78.  ],\n",
              "       [55.49],\n",
              "       [52.  ],\n",
              "       [67.21],\n",
              "       [60.35],\n",
              "       [70.85],\n",
              "       [31.2 ],\n",
              "       [52.31],\n",
              "       [77.95],\n",
              "       [81.1 ],\n",
              "       [60.72],\n",
              "       [74.3 ],\n",
              "       [52.  ],\n",
              "       [49.68],\n",
              "       [78.6 ],\n",
              "       [72.4 ],\n",
              "       [72.47],\n",
              "       [75.13],\n",
              "       [52.56],\n",
              "       [44.73],\n",
              "       [80.47],\n",
              "       [59.  ],\n",
              "       [68.9 ],\n",
              "       [63.41],\n",
              "       [73.13],\n",
              "       [56.88],\n",
              "       [51.06],\n",
              "       [73.09],\n",
              "       [65.6 ],\n",
              "       [57.75],\n",
              "       [62.16],\n",
              "       [70.09],\n",
              "       [57.8 ],\n",
              "       [63.  ],\n",
              "       [76.02],\n",
              "       [69.48],\n",
              "       [60.53],\n",
              "       [42.  ],\n",
              "       [62.99],\n",
              "       [62.97],\n",
              "       [54.  ],\n",
              "       [68.7 ],\n",
              "       [61.68],\n",
              "       [51.  ],\n",
              "       [69.62],\n",
              "       [62.98],\n",
              "       [88.1 ],\n",
              "       [72.73],\n",
              "       [78.6 ],\n",
              "       [72.57],\n",
              "       [65.46],\n",
              "       [83.38],\n",
              "       [76.35],\n",
              "       [53.26],\n",
              "       [64.63],\n",
              "       [57.3 ],\n",
              "       [56.89],\n",
              "       [58.  ],\n",
              "       [55.7 ],\n",
              "       [42.17],\n",
              "       [54.16],\n",
              "       [61.  ],\n",
              "       [35.84],\n",
              "       [68.5 ],\n",
              "       [76.3 ],\n",
              "       [74.5 ],\n",
              "       [65.53]])"
            ]
          },
          "metadata": {
            "tags": []
          },
          "execution_count": 5
        }
      ]
    },
    {
      "cell_type": "code",
      "metadata": {
        "id": "8xHoIYzW_cmd",
        "colab_type": "code",
        "colab": {}
      },
      "source": [
        "X_train,X_test,Y_train,Y_test=train_test_split(x,y,test_size=0.2)"
      ],
      "execution_count": 0,
      "outputs": []
    },
    {
      "cell_type": "code",
      "metadata": {
        "id": "vGfALATl_0x2",
        "colab_type": "code",
        "outputId": "658f3857-bb9e-4860-b17e-ea8377ed076b",
        "colab": {
          "base_uri": "https://localhost:8080/",
          "height": 34
        }
      },
      "source": [
        "model=LinearRegression()\n",
        "model.fit(X_train,Y_train)"
      ],
      "execution_count": 0,
      "outputs": [
        {
          "output_type": "execute_result",
          "data": {
            "text/plain": [
              "LinearRegression(copy_X=True, fit_intercept=True, n_jobs=None, normalize=False)"
            ]
          },
          "metadata": {
            "tags": []
          },
          "execution_count": 8
        }
      ]
    },
    {
      "cell_type": "code",
      "metadata": {
        "id": "OeU7QnG4AN7S",
        "colab_type": "code",
        "outputId": "6296f6c6-3854-4ac5-9212-8fd28716e536",
        "colab": {
          "base_uri": "https://localhost:8080/",
          "height": 34
        }
      },
      "source": [
        "print(model.intercept_)"
      ],
      "execution_count": 0,
      "outputs": [
        {
          "output_type": "stream",
          "text": [
            "[10.21634512]\n"
          ],
          "name": "stdout"
        }
      ]
    },
    {
      "cell_type": "code",
      "metadata": {
        "id": "yIYbLHZuAdMW",
        "colab_type": "code",
        "outputId": "ddf63f88-6efa-4320-8632-ef04f6d3603b",
        "colab": {
          "base_uri": "https://localhost:8080/",
          "height": 34
        }
      },
      "source": [
        "print(model.coef_)"
      ],
      "execution_count": 0,
      "outputs": [
        {
          "output_type": "stream",
          "text": [
            "[[0.6608988]]\n"
          ],
          "name": "stdout"
        }
      ]
    },
    {
      "cell_type": "code",
      "metadata": {
        "id": "UTLapbu6ApAV",
        "colab_type": "code",
        "outputId": "8b53b33e-3677-49b4-acf5-3031017f6ca5",
        "colab": {
          "base_uri": "https://localhost:8080/",
          "height": 425
        }
      },
      "source": [
        "predicted_ssc=model.predict(X_test)\n",
        "predicted_ssc"
      ],
      "execution_count": 0,
      "outputs": [
        {
          "output_type": "execute_result",
          "data": {
            "text/plain": [
              "array([[50.41881921],\n",
              "       [62.42735043],\n",
              "       [67.71454085],\n",
              "       [60.00185183],\n",
              "       [69.25443505],\n",
              "       [61.76645163],\n",
              "       [67.93263745],\n",
              "       [68.26308685],\n",
              "       [63.92098173],\n",
              "       [68.48118346],\n",
              "       [67.91281049],\n",
              "       [60.99320004],\n",
              "       [59.45330583],\n",
              "       [69.03633845],\n",
              "       [69.91533385],\n",
              "       [62.16299091],\n",
              "       [61.32364944],\n",
              "       [59.12285643],\n",
              "       [65.07094564],\n",
              "       [64.29769404],\n",
              "       [52.51386841],\n",
              "       [70.35813605],\n",
              "       [69.69723725],\n",
              "       [54.49656482]])"
            ]
          },
          "metadata": {
            "tags": []
          },
          "execution_count": 13
        }
      ]
    },
    {
      "cell_type": "code",
      "metadata": {
        "id": "492gJbG4BT9M",
        "colab_type": "code",
        "outputId": "3f64074b-9e6f-4244-e4e0-cddad56b3d4c",
        "colab": {
          "base_uri": "https://localhost:8080/",
          "height": 793
        }
      },
      "source": [
        "Actual_predicted=pd.DataFrame({'predicted':predicted_ssc.flatten(), 'Actual':Y_test.flatten()})\n",
        "Actual_predicted"
      ],
      "execution_count": 0,
      "outputs": [
        {
          "output_type": "execute_result",
          "data": {
            "text/html": [
              "<div>\n",
              "<style scoped>\n",
              "    .dataframe tbody tr th:only-of-type {\n",
              "        vertical-align: middle;\n",
              "    }\n",
              "\n",
              "    .dataframe tbody tr th {\n",
              "        vertical-align: top;\n",
              "    }\n",
              "\n",
              "    .dataframe thead th {\n",
              "        text-align: right;\n",
              "    }\n",
              "</style>\n",
              "<table border=\"1\" class=\"dataframe\">\n",
              "  <thead>\n",
              "    <tr style=\"text-align: right;\">\n",
              "      <th></th>\n",
              "      <th>predicted</th>\n",
              "      <th>Actual</th>\n",
              "    </tr>\n",
              "  </thead>\n",
              "  <tbody>\n",
              "    <tr>\n",
              "      <th>0</th>\n",
              "      <td>50.418819</td>\n",
              "      <td>54.00</td>\n",
              "    </tr>\n",
              "    <tr>\n",
              "      <th>1</th>\n",
              "      <td>62.427350</td>\n",
              "      <td>71.94</td>\n",
              "    </tr>\n",
              "    <tr>\n",
              "      <th>2</th>\n",
              "      <td>67.714541</td>\n",
              "      <td>70.01</td>\n",
              "    </tr>\n",
              "    <tr>\n",
              "      <th>3</th>\n",
              "      <td>60.001852</td>\n",
              "      <td>58.67</td>\n",
              "    </tr>\n",
              "    <tr>\n",
              "      <th>4</th>\n",
              "      <td>69.254435</td>\n",
              "      <td>69.62</td>\n",
              "    </tr>\n",
              "    <tr>\n",
              "      <th>5</th>\n",
              "      <td>61.766452</td>\n",
              "      <td>51.06</td>\n",
              "    </tr>\n",
              "    <tr>\n",
              "      <th>6</th>\n",
              "      <td>67.932637</td>\n",
              "      <td>69.48</td>\n",
              "    </tr>\n",
              "    <tr>\n",
              "      <th>7</th>\n",
              "      <td>68.263087</td>\n",
              "      <td>74.34</td>\n",
              "    </tr>\n",
              "    <tr>\n",
              "      <th>8</th>\n",
              "      <td>63.920982</td>\n",
              "      <td>62.20</td>\n",
              "    </tr>\n",
              "    <tr>\n",
              "      <th>9</th>\n",
              "      <td>68.481183</td>\n",
              "      <td>63.41</td>\n",
              "    </tr>\n",
              "    <tr>\n",
              "      <th>10</th>\n",
              "      <td>67.912810</td>\n",
              "      <td>40.00</td>\n",
              "    </tr>\n",
              "    <tr>\n",
              "      <th>11</th>\n",
              "      <td>60.993200</td>\n",
              "      <td>72.73</td>\n",
              "    </tr>\n",
              "    <tr>\n",
              "      <th>12</th>\n",
              "      <td>59.453306</td>\n",
              "      <td>55.82</td>\n",
              "    </tr>\n",
              "    <tr>\n",
              "      <th>13</th>\n",
              "      <td>69.036338</td>\n",
              "      <td>65.60</td>\n",
              "    </tr>\n",
              "    <tr>\n",
              "      <th>14</th>\n",
              "      <td>69.915334</td>\n",
              "      <td>80.47</td>\n",
              "    </tr>\n",
              "    <tr>\n",
              "      <th>15</th>\n",
              "      <td>62.162991</td>\n",
              "      <td>56.88</td>\n",
              "    </tr>\n",
              "    <tr>\n",
              "      <th>16</th>\n",
              "      <td>61.323649</td>\n",
              "      <td>52.00</td>\n",
              "    </tr>\n",
              "    <tr>\n",
              "      <th>17</th>\n",
              "      <td>59.122856</td>\n",
              "      <td>76.02</td>\n",
              "    </tr>\n",
              "    <tr>\n",
              "      <th>18</th>\n",
              "      <td>65.070946</td>\n",
              "      <td>58.00</td>\n",
              "    </tr>\n",
              "    <tr>\n",
              "      <th>19</th>\n",
              "      <td>64.297694</td>\n",
              "      <td>60.72</td>\n",
              "    </tr>\n",
              "    <tr>\n",
              "      <th>20</th>\n",
              "      <td>52.513868</td>\n",
              "      <td>31.20</td>\n",
              "    </tr>\n",
              "    <tr>\n",
              "      <th>21</th>\n",
              "      <td>70.358136</td>\n",
              "      <td>72.68</td>\n",
              "    </tr>\n",
              "    <tr>\n",
              "      <th>22</th>\n",
              "      <td>69.697237</td>\n",
              "      <td>72.40</td>\n",
              "    </tr>\n",
              "    <tr>\n",
              "      <th>23</th>\n",
              "      <td>54.496565</td>\n",
              "      <td>45.26</td>\n",
              "    </tr>\n",
              "  </tbody>\n",
              "</table>\n",
              "</div>"
            ],
            "text/plain": [
              "    predicted  Actual\n",
              "0   50.418819   54.00\n",
              "1   62.427350   71.94\n",
              "2   67.714541   70.01\n",
              "3   60.001852   58.67\n",
              "4   69.254435   69.62\n",
              "5   61.766452   51.06\n",
              "6   67.932637   69.48\n",
              "7   68.263087   74.34\n",
              "8   63.920982   62.20\n",
              "9   68.481183   63.41\n",
              "10  67.912810   40.00\n",
              "11  60.993200   72.73\n",
              "12  59.453306   55.82\n",
              "13  69.036338   65.60\n",
              "14  69.915334   80.47\n",
              "15  62.162991   56.88\n",
              "16  61.323649   52.00\n",
              "17  59.122856   76.02\n",
              "18  65.070946   58.00\n",
              "19  64.297694   60.72\n",
              "20  52.513868   31.20\n",
              "21  70.358136   72.68\n",
              "22  69.697237   72.40\n",
              "23  54.496565   45.26"
            ]
          },
          "metadata": {
            "tags": []
          },
          "execution_count": 14
        }
      ]
    }
  ]
}